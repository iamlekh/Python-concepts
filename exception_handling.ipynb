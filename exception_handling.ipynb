{
  "nbformat": 4,
  "nbformat_minor": 0,
  "metadata": {
    "colab": {
      "name": "scratchpad",
      "provenance": [],
      "include_colab_link": true
    },
    "kernelspec": {
      "display_name": "Python 3",
      "name": "python3"
    }
  },
  "cells": [
    {
      "cell_type": "markdown",
      "metadata": {
        "id": "view-in-github",
        "colab_type": "text"
      },
      "source": [
        "<a href=\"https://colab.research.google.com/github/iamlekh/Python-concepts/blob/master/exception_handling.ipynb\" target=\"_parent\"><img src=\"https://colab.research.google.com/assets/colab-badge.svg\" alt=\"Open In Colab\"/></a>"
      ]
    },
    {
      "cell_type": "markdown",
      "metadata": {
        "id": "p3YGkCmpBux5"
      },
      "source": [
        "# ***Python Exception Handling***\n",
        "\n",
        "---\n",
        "\n",
        "\n",
        "\n",
        "---\n",
        "\n"
      ]
    },
    {
      "cell_type": "markdown",
      "metadata": {
        "id": "jGF1KT8aB85E"
      },
      "source": [
        "**Errors** are the problems in a program due to which the program will stop the execution. On the other hand, **exceptions** are raised when some internal events occur which changes the normal flow of the program. \n",
        "\n",
        "* **Syntax Error:** this error is caused by the wrong syntax in the code. It leads to the termination of the program.\n",
        "* **Exceptions:** Exceptions are raised when the program is syntactically correct, but the code resulted in an error. This error does not stop the execution of the program, however, it changes the normal flow of the program."
      ]
    },
    {
      "cell_type": "code",
      "metadata": {
        "id": "QKiM4TqMB6lw",
        "outputId": "0e7b84eb-4780-4fda-d686-eaf554d1b5b6",
        "colab": {
          "base_uri": "https://localhost:8080/",
          "height": 126
        }
      },
      "source": [
        "# SYNTAX ERROR\n",
        "amount = 10000\n",
        "\n",
        "if(amount>2999)\n",
        "\tprint(\"You are eligible to purchase Dsa Self Paced\")\n",
        "\t\n"
      ],
      "execution_count": 6,
      "outputs": [
        {
          "output_type": "error",
          "ename": "SyntaxError",
          "evalue": "ignored",
          "traceback": [
            "\u001b[0;36m  File \u001b[0;32m\"<ipython-input-6-1563487eb159>\"\u001b[0;36m, line \u001b[0;32m4\u001b[0m\n\u001b[0;31m    if(amount>2999)\u001b[0m\n\u001b[0m                   ^\u001b[0m\n\u001b[0;31mSyntaxError\u001b[0m\u001b[0;31m:\u001b[0m invalid syntax\n"
          ]
        }
      ]
    },
    {
      "cell_type": "code",
      "metadata": {
        "id": "iHkps-LHCVvc",
        "outputId": "e55f2ccc-1ffd-4c14-f55a-949d9bfcc87c",
        "colab": {
          "base_uri": "https://localhost:8080/",
          "height": 207
        }
      },
      "source": [
        "# EXCEPTION\n",
        "marks = 10000\n",
        "\n",
        "a = marks / 0\n",
        "print(a)\n"
      ],
      "execution_count": 7,
      "outputs": [
        {
          "output_type": "error",
          "ename": "ZeroDivisionError",
          "evalue": "ignored",
          "traceback": [
            "\u001b[0;31m---------------------------------------------------------------------------\u001b[0m",
            "\u001b[0;31mZeroDivisionError\u001b[0m                         Traceback (most recent call last)",
            "\u001b[0;32m<ipython-input-7-52fb37197f74>\u001b[0m in \u001b[0;36m<module>\u001b[0;34m()\u001b[0m\n\u001b[1;32m      2\u001b[0m \u001b[0mmarks\u001b[0m \u001b[0;34m=\u001b[0m \u001b[0;36m10000\u001b[0m\u001b[0;34m\u001b[0m\u001b[0;34m\u001b[0m\u001b[0m\n\u001b[1;32m      3\u001b[0m \u001b[0;34m\u001b[0m\u001b[0m\n\u001b[0;32m----> 4\u001b[0;31m \u001b[0ma\u001b[0m \u001b[0;34m=\u001b[0m \u001b[0mmarks\u001b[0m \u001b[0;34m/\u001b[0m \u001b[0;36m0\u001b[0m\u001b[0;34m\u001b[0m\u001b[0;34m\u001b[0m\u001b[0m\n\u001b[0m\u001b[1;32m      5\u001b[0m \u001b[0mprint\u001b[0m\u001b[0;34m(\u001b[0m\u001b[0ma\u001b[0m\u001b[0;34m)\u001b[0m\u001b[0;34m\u001b[0m\u001b[0;34m\u001b[0m\u001b[0m\n",
            "\u001b[0;31mZeroDivisionError\u001b[0m: division by zero"
          ]
        }
      ]
    },
    {
      "cell_type": "markdown",
      "metadata": {
        "id": "2OLIJezkDIPR"
      },
      "source": [
        "# **Try and Except in Exception Handling**\n",
        "\n",
        "A try statement can have more than one except clause, to specify handlers for different exceptions. Please note that at most one handler will be executed. "
      ]
    },
    {
      "cell_type": "code",
      "metadata": {
        "id": "T5zau3IPCwIx"
      },
      "source": [
        "a = [1, 2, 3]\n",
        "try:\n",
        "\tprint (\"Second element = %d\" %(a[1]))\n",
        "\tprint (\"Fourth element = %d\" %(a[3]))\n",
        "except IndexError:\n",
        "\tprint (\"An error occurred\")"
      ],
      "execution_count": null,
      "outputs": []
    },
    {
      "cell_type": "code",
      "metadata": {
        "id": "0SGYbWAeDP89"
      },
      "source": [
        "try :\n",
        "\ta = 3\n",
        "\tif a < 4 :\n",
        "\t\tb = a/(a-3)\n",
        "\n",
        "\tprint (\"Value of b = \", b)\n",
        "\n",
        "\n",
        "except(ZeroDivisionError, NameError):\n",
        "\tprint (\"Error Occurred and Handled\")\n"
      ],
      "execution_count": null,
      "outputs": []
    },
    {
      "cell_type": "code",
      "metadata": {
        "id": "SLKPDzLuDngt"
      },
      "source": [
        "def AbyB(a , b):\n",
        "\ttry:\n",
        "\t\tc = ((a+b) / (a-b))\n",
        "\texcept ZeroDivisionError:\n",
        "\t\tprint (\"a/b result in 0\")\n",
        "\telse:\n",
        "\t\tprint (c)\n",
        "\n",
        "AbyB(2.0, 3.0)\n",
        "AbyB(3.0, 3.0)\n"
      ],
      "execution_count": null,
      "outputs": []
    },
    {
      "cell_type": "code",
      "metadata": {
        "id": "Kcp8_fsODvat"
      },
      "source": [
        "try:\n",
        "\tk = 5//0 \n",
        "\tprint(k)\n",
        "\n",
        "except ZeroDivisionError:\n",
        "\tprint(\"Can't divide by zero\")\n",
        "\t\n",
        "finally:\n",
        "\tprint('This is always executed')\n"
      ],
      "execution_count": null,
      "outputs": []
    },
    {
      "cell_type": "markdown",
      "metadata": {
        "id": "7dtOawJWESw2"
      },
      "source": [
        "# **Raising Exception**\n",
        "\n",
        "The raise statement allows the programmer to force a specific exception to occur. The sole argument in raise indicates the exception to be raised. This must be either an exception instance or an exception class (a class that derives from Exception).\n",
        " "
      ]
    },
    {
      "cell_type": "code",
      "metadata": {
        "id": "0YD7C6JuEKYm"
      },
      "source": [
        "try:\n",
        "\traise NameError(\"Hi there\") \n",
        "except NameError:\n",
        "\tprint (\"An exception\")\n",
        "\traise \n"
      ],
      "execution_count": null,
      "outputs": []
    },
    {
      "cell_type": "markdown",
      "metadata": {
        "id": "amfd2YswE2pj"
      },
      "source": [
        "# **User-defined Exceptions**\n",
        "\n"
      ]
    },
    {
      "cell_type": "code",
      "metadata": {
        "id": "hB17g_qpEdxp"
      },
      "source": [
        "class MyError(Exception):\n",
        "\tdef __init__(self, value):\n",
        "\t\tself.value = value\n",
        "\tdef __str__(self):\n",
        "\t\treturn(repr(self.value))\n",
        "\n",
        "try:\n",
        "\traise(MyError(3*2))\n",
        "\n",
        "except MyError as error:\n",
        "\tprint('A New Exception occured: ',error.value)\n"
      ],
      "execution_count": null,
      "outputs": []
    },
    {
      "cell_type": "markdown",
      "metadata": {
        "id": "3BGIV3_wFsF4"
      },
      "source": [
        "# **Knowing all about Exception Class**"
      ]
    },
    {
      "cell_type": "code",
      "metadata": {
        "id": "yhkzdBpBFZMr"
      },
      "source": [
        "help(Exception)"
      ],
      "execution_count": null,
      "outputs": []
    },
    {
      "cell_type": "markdown",
      "metadata": {
        "id": "pfZ1026XF_0P"
      },
      "source": [
        "# Deriving Error from Super Class Exception\n",
        "\n"
      ]
    },
    {
      "cell_type": "code",
      "metadata": {
        "id": "YkK_pfmEFpnC"
      },
      "source": [
        "# class Error is derived from super class Exception\n",
        "class Error(Exception):\n",
        "\n",
        "\t# Error is derived class for Exception, but\n",
        "\t# Base class for exceptions in this module\n",
        "\tpass\n",
        "\n",
        "class TransitionError(Error):\n",
        "\n",
        "\t# Raised when an operation attempts a state\n",
        "\t# transition that's not allowed.\n",
        "\tdef __init__(self, prev, nex, msg):\n",
        "\t\tself.prev = prev\n",
        "\t\tself.next = nex\n",
        "\n",
        "\t\t# Error message thrown is saved in msg\n",
        "\t\tself.msg = msg\n",
        "try:\n",
        "\traise(TransitionError(2,3*2,\"Not Allowed\"))\n",
        "\n",
        "# Value of Exception is stored in error\n",
        "except TransitionError as error:\n",
        "\tprint('Exception occured: ',error.msg)\n"
      ],
      "execution_count": null,
      "outputs": []
    },
    {
      "cell_type": "markdown",
      "metadata": {
        "id": "3plldK_qGjL4"
      },
      "source": [
        "# **Built-in Exceptions**"
      ]
    },
    {
      "cell_type": "code",
      "metadata": {
        "id": "IgFBL058GCZ9",
        "outputId": "d161279c-24d5-4fac-c3d3-02c6718ef0be",
        "colab": {
          "base_uri": "https://localhost:8080/"
        }
      },
      "source": [
        "locals()"
      ],
      "execution_count": 8,
      "outputs": [
        {
          "output_type": "execute_result",
          "data": {
            "text/plain": [
              "{'In': ['',\n",
              "  '# Code 1 : Code works normally and clean-up action is taken at the end\\ndef divide(x, y):\\n\\ttry:\\n\\t\\t# Floor Division : Gives only Fractional Part as Answer\\n\\t\\tresult = x // y\\n\\texcept ZeroDivisionError:\\n\\t\\tprint(\"Sorry ! You are dividing by zero \")\\n\\telse:\\n\\t\\tprint(\"Yeah ! Your answer is :\", result)\\n\\tfinally:\\n\\t\\tprint(\"I\\'m finally clause, always raised !! \")\\n\\n# Look at parameters and note the working of Program\\ndivide(3, 2)',\n",
              "  '# Code 2 : Code raise error and is carefully handled in the except clause. Note that Clean-up action is taken at the end.\\ndef divide(x, y):\\n\\ttry:\\n\\t\\t# Floor Division : Gives only Fractional Part as Answer\\n\\t\\tresult = x // y\\n\\texcept ZeroDivisionError:\\n\\t\\tprint(\"Sorry ! You are dividing by zero \")\\n\\telse:\\n\\t\\tprint(\"Yeah ! Your answer is :\", result)\\n\\tfinally:\\n\\t\\tprint(\"I\\'m finally clause, always raised !! \")\\n\\n# Look at parameters and note the working of Program\\ndivide(3, 0)',\n",
              "  '# Code 3 : Code, raise error but we don’t have any except clause to handle it. So, clean-up action is taken first and then the error(by default) is raised by the compiler.\\ndef divide(x, y):\\n\\ttry:\\n\\t\\t# Floor Division : Gives only Fractional Part as Answer\\n\\t\\tresult = x // y\\n\\texcept ZeroDivisionError:\\n\\t\\tprint(\"Sorry ! You are dividing by zero \")\\n\\telse:\\n\\t\\tprint(\"Yeah ! Your answer is :\", result)\\n\\tfinally:\\n\\t\\tprint(\"I\\'m finally clause, always raised !! \")\\n\\n# Look at parameters and note the working of Program\\ndivide(3, \"3\")',\n",
              "  'n = int(input())\\nk = int(input())\\nprint n,\" \",k',\n",
              "  'n = int(input())\\nk = int(input())\\nprint(n,\" \",k)',\n",
              "  '# SYNTAX ERROR\\namount = 10000\\n\\nif(amount>2999)\\n\\tprint(\"You are eligible to purchase Dsa Self Paced\")\\n\\t',\n",
              "  '# EXCEPTION\\nmarks = 10000\\n\\na = marks / 0\\nprint(a)',\n",
              "  'locals()'],\n",
              " 'Out': {},\n",
              " '_': '',\n",
              " '__': '',\n",
              " '___': '',\n",
              " '__builtin__': <module 'builtins' (built-in)>,\n",
              " '__builtins__': <module 'builtins' (built-in)>,\n",
              " '__doc__': 'Automatically created module for IPython interactive environment',\n",
              " '__loader__': None,\n",
              " '__name__': '__main__',\n",
              " '__package__': None,\n",
              " '__spec__': None,\n",
              " '_dh': ['/content'],\n",
              " '_i': '# EXCEPTION\\nmarks = 10000\\n\\na = marks / 0\\nprint(a)',\n",
              " '_i1': '# Code 1 : Code works normally and clean-up action is taken at the end\\ndef divide(x, y):\\n\\ttry:\\n\\t\\t# Floor Division : Gives only Fractional Part as Answer\\n\\t\\tresult = x // y\\n\\texcept ZeroDivisionError:\\n\\t\\tprint(\"Sorry ! You are dividing by zero \")\\n\\telse:\\n\\t\\tprint(\"Yeah ! Your answer is :\", result)\\n\\tfinally:\\n\\t\\tprint(\"I\\'m finally clause, always raised !! \")\\n\\n# Look at parameters and note the working of Program\\ndivide(3, 2)',\n",
              " '_i2': '# Code 2 : Code raise error and is carefully handled in the except clause. Note that Clean-up action is taken at the end.\\ndef divide(x, y):\\n\\ttry:\\n\\t\\t# Floor Division : Gives only Fractional Part as Answer\\n\\t\\tresult = x // y\\n\\texcept ZeroDivisionError:\\n\\t\\tprint(\"Sorry ! You are dividing by zero \")\\n\\telse:\\n\\t\\tprint(\"Yeah ! Your answer is :\", result)\\n\\tfinally:\\n\\t\\tprint(\"I\\'m finally clause, always raised !! \")\\n\\n# Look at parameters and note the working of Program\\ndivide(3, 0)',\n",
              " '_i3': '# Code 3 : Code, raise error but we don’t have any except clause to handle it. So, clean-up action is taken first and then the error(by default) is raised by the compiler.\\ndef divide(x, y):\\n\\ttry:\\n\\t\\t# Floor Division : Gives only Fractional Part as Answer\\n\\t\\tresult = x // y\\n\\texcept ZeroDivisionError:\\n\\t\\tprint(\"Sorry ! You are dividing by zero \")\\n\\telse:\\n\\t\\tprint(\"Yeah ! Your answer is :\", result)\\n\\tfinally:\\n\\t\\tprint(\"I\\'m finally clause, always raised !! \")\\n\\n# Look at parameters and note the working of Program\\ndivide(3, \"3\")',\n",
              " '_i4': 'n = int(input())\\nk = int(input())\\nprint n,\" \",k',\n",
              " '_i5': 'n = int(input())\\nk = int(input())\\nprint(n,\" \",k)',\n",
              " '_i6': '# SYNTAX ERROR\\namount = 10000\\n\\nif(amount>2999)\\n\\tprint(\"You are eligible to purchase Dsa Self Paced\")\\n\\t',\n",
              " '_i7': '# EXCEPTION\\nmarks = 10000\\n\\na = marks / 0\\nprint(a)',\n",
              " '_i8': 'locals()',\n",
              " '_ih': ['',\n",
              "  '# Code 1 : Code works normally and clean-up action is taken at the end\\ndef divide(x, y):\\n\\ttry:\\n\\t\\t# Floor Division : Gives only Fractional Part as Answer\\n\\t\\tresult = x // y\\n\\texcept ZeroDivisionError:\\n\\t\\tprint(\"Sorry ! You are dividing by zero \")\\n\\telse:\\n\\t\\tprint(\"Yeah ! Your answer is :\", result)\\n\\tfinally:\\n\\t\\tprint(\"I\\'m finally clause, always raised !! \")\\n\\n# Look at parameters and note the working of Program\\ndivide(3, 2)',\n",
              "  '# Code 2 : Code raise error and is carefully handled in the except clause. Note that Clean-up action is taken at the end.\\ndef divide(x, y):\\n\\ttry:\\n\\t\\t# Floor Division : Gives only Fractional Part as Answer\\n\\t\\tresult = x // y\\n\\texcept ZeroDivisionError:\\n\\t\\tprint(\"Sorry ! You are dividing by zero \")\\n\\telse:\\n\\t\\tprint(\"Yeah ! Your answer is :\", result)\\n\\tfinally:\\n\\t\\tprint(\"I\\'m finally clause, always raised !! \")\\n\\n# Look at parameters and note the working of Program\\ndivide(3, 0)',\n",
              "  '# Code 3 : Code, raise error but we don’t have any except clause to handle it. So, clean-up action is taken first and then the error(by default) is raised by the compiler.\\ndef divide(x, y):\\n\\ttry:\\n\\t\\t# Floor Division : Gives only Fractional Part as Answer\\n\\t\\tresult = x // y\\n\\texcept ZeroDivisionError:\\n\\t\\tprint(\"Sorry ! You are dividing by zero \")\\n\\telse:\\n\\t\\tprint(\"Yeah ! Your answer is :\", result)\\n\\tfinally:\\n\\t\\tprint(\"I\\'m finally clause, always raised !! \")\\n\\n# Look at parameters and note the working of Program\\ndivide(3, \"3\")',\n",
              "  'n = int(input())\\nk = int(input())\\nprint n,\" \",k',\n",
              "  'n = int(input())\\nk = int(input())\\nprint(n,\" \",k)',\n",
              "  '# SYNTAX ERROR\\namount = 10000\\n\\nif(amount>2999)\\n\\tprint(\"You are eligible to purchase Dsa Self Paced\")\\n\\t',\n",
              "  '# EXCEPTION\\nmarks = 10000\\n\\na = marks / 0\\nprint(a)',\n",
              "  'locals()'],\n",
              " '_ii': '# SYNTAX ERROR\\namount = 10000\\n\\nif(amount>2999)\\n\\tprint(\"You are eligible to purchase Dsa Self Paced\")\\n\\t',\n",
              " '_iii': 'n = int(input())\\nk = int(input())\\nprint(n,\" \",k)',\n",
              " '_oh': {},\n",
              " '_sh': <module 'IPython.core.shadowns' from '/usr/local/lib/python3.7/dist-packages/IPython/core/shadowns.py'>,\n",
              " 'divide': <function __main__.divide>,\n",
              " 'exit': <IPython.core.autocall.ZMQExitAutocall at 0x7fa6c5ed8610>,\n",
              " 'get_ipython': <bound method InteractiveShell.get_ipython of <google.colab._shell.Shell object at 0x7fa6cbd7ed10>>,\n",
              " 'k': 3,\n",
              " 'marks': 10000,\n",
              " 'n': 2,\n",
              " 'quit': <IPython.core.autocall.ZMQExitAutocall at 0x7fa6c5ed8610>}"
            ]
          },
          "metadata": {
            "tags": []
          },
          "execution_count": 8
        }
      ]
    },
    {
      "cell_type": "markdown",
      "metadata": {
        "id": "xQYyLkfeG0-j"
      },
      "source": [
        "# **Base Classes**\n",
        "\n",
        "1. **exception BaseException**\n",
        "\n",
        "* **args :** The args are the tuple of arguments given to the exception constructor.\n",
        "* **with_traceback(tb) :** This method is usually used in exception handling. This method sets tb as the new traceback for the exception and returns the exception object.\n",
        "\n",
        "2. **exception Exception:**\n",
        "\n",
        "* This is the base class for all built-in non-system-exiting exceptions.\n",
        "* All user-defined exceptions should also be derived from this class.\n",
        "\n",
        "3. **exception ArithmeticError :**\n",
        "* This class is the base class for those built-in exceptions that are raised for various arithmetic errors such as :OverflowError,ZeroDivisionError,FloatingPointError\n",
        "\n",
        "4. **exception BufferError :**\n",
        "* This exception is raised when buffer related operations cannot be performed.\n",
        "\n",
        "5. **exception LookupError :**\n",
        "* This is the base class for those exceptions that are raised when a key or index used on a mapping or sequence is invalid or not found. The exceptions raised are :KeyError,IndexError\n"
      ]
    },
    {
      "cell_type": "code",
      "metadata": {
        "id": "coSsp6oaGds7",
        "outputId": "9172ce9c-462d-49f3-d968-f1abd9e50862",
        "colab": {
          "base_uri": "https://localhost:8080/"
        }
      },
      "source": [
        "try:\n",
        "\ta = 10/0\n",
        "\tprint (a)\n",
        "except ArithmeticError:\n",
        "\t\tprint (\"This statement is raising an arithmetic exception.\")\n",
        "else:\n",
        "\tprint (\"Success.\")\n"
      ],
      "execution_count": 9,
      "outputs": [
        {
          "output_type": "stream",
          "text": [
            "This statement is raising an arithmetic exception.\n"
          ],
          "name": "stdout"
        }
      ]
    },
    {
      "cell_type": "code",
      "metadata": {
        "id": "VVqQ7-MfIxed",
        "outputId": "b9413f19-55f6-4cff-de16-b3be191724a6",
        "colab": {
          "base_uri": "https://localhost:8080/"
        }
      },
      "source": [
        "try:\n",
        "\ta = [1, 2, 3]\n",
        "\tprint (a[3])\n",
        "except LookupError:\n",
        "\tprint (\"Index out of bound error.\")\n",
        "else:\n",
        "\tprint (\"Success\")\n",
        "\n"
      ],
      "execution_count": 10,
      "outputs": [
        {
          "output_type": "stream",
          "text": [
            "Index out of bound error.\n"
          ],
          "name": "stdout"
        }
      ]
    },
    {
      "cell_type": "markdown",
      "metadata": {
        "id": "96LVxkqaI0yE"
      },
      "source": [
        "# **Concrete exceptions**\n",
        "\n",
        "**exception AssertionError :**\n",
        "An AssertionError is raised when an assert statement fails.\n",
        "\n",
        "\n",
        "**exception AttributeError**\n",
        "An AttributeError is raised when an attribute reference or assignment fails such as when a non-existent attribute is referenced.\n",
        "\n",
        "**exception EOFError**\n",
        "\n",
        "An EOFError is raised when built-in functions like input() hits an end-of-file condition (EOF) without reading any data. The file methods like readline() return an empty string when they hit EOF.\n",
        "\n",
        "**exception FloatingPointError**\n",
        "A FloatingPointError is raised when a floating point operation fails. This exception is always defined, but can only be raised when Python is configured with the–with-fpectl option, or the WANT_SIGFPE_HANDLER symbol is defined in the pyconfig.h file.\n",
        "\n",
        "**exception GeneratorExit**\n",
        "This exception directly inherits from BaseException instead of Exception since it is technically not an error. A GeneratorExit exception is raised when a generator or coroutine is closed.\n",
        "\n",
        "**exception ImportError**\n",
        "An ImportError is raised when the import statement is unable to load a module or when the “from list” in from … import has a name that cannot be found.\n",
        "\n",
        "**exception ModuleNotFoundError**\n",
        "This is the subclass of ImportError which is raised by import when a module could not be found. It is also raised when None is found in sys.modules.\n",
        "\n",
        "**exception IndexError**\n",
        "An IndexError is raised when a sequence is referenced which is out of range.\n",
        "\n",
        "**exception KeyError**\n",
        "A KeyError is raised when a mapping key is not found in the set of existing keys.\n",
        "\n",
        "**exception KeyboardInterrupt**\n",
        "This error is raised when the user hits the interrupt key such as Control-C or Delete.\n",
        "\n",
        "**exception MemoryError**\n",
        "This error is raised when an operation runs out of memory.\n",
        "\n",
        "**exception NameError**\n",
        "This error is raised when a local or global name is not found. For example, an unqualified variable name.\n",
        "\n",
        "**exception NotImplementedError**\n",
        "This exception is derived from RuntimeError. Abstract methods in user defined classed should raise this exception when the derived classes override the method.\n",
        "\n",
        "**exception OSError([arg])**\n",
        "The OSError exception is raised when a system function returns a system-related error, including I/O failures such as “file not found” or “disk full” errors.\n",
        "\n",
        "**exception OverflowError**\n",
        "The OverflowError is raised when the result of an arithmetic operation is out of range. Integers raise MemoryError instead of OverflowError. OverflowError is sometimes raised for integers that are outside a required range. Floating point operations are not checked because of the lack of standardization of floating point exception handling in C.\n",
        "\n",
        "**exception RecursionError**\n",
        "The RecursionError is derived from the RuntimeError. This exception is raised when the interpreter detects that the maximum recursion depth is exceeded.\n",
        "\n",
        "**exception ReferenceError**\n",
        "The ReferenceError is raised when a weak reference proxy is used to access an attribute of the referent after the garbage collection.\n",
        "\n",
        "**exception RuntimeError**\n",
        "The RuntimeError is raised when no other exception applies. It returns a string indicating what precisely went wrong.\n",
        "\n",
        "**exception StopIteration**\n",
        "The StopIteration error is raised by built-in function next() and an iterator‘s ```__next__()``` method to signal that all items are produced by the iterator.\n",
        "\n",
        "**exception SyntaxError**\n",
        "The SyntaxError is raised when the parser encounters a syntax error. A syntax error may occur in an import statement or while calling the built-in functions exec() or eval(), or when reading the initial script or standard input.\n",
        "\n",
        "**exception SystemError**\n",
        "The SystemError is raised when the interpreter finds an internal error. The associated value is a string indicating what went wrong.\n",
        "\n",
        "**exception SystemExit**\n",
        "The SystemExit is raised when sys.exit() function is called. A call to sys.exit() is translated into an exception to execute clean-up handlers (finally clauses of try statements) and to debug a script without running the risk of losing control.\n",
        "\n",
        "**exception TypeError**\n",
        "TypeError is raised when an operation or function is applied to an object of inappropriate type. This exception returns a string giving details about the type mismatch.\n",
        "\n",
        "**exception UnicodeError**\n",
        "This exception is a subclass of ValueError. UnicodeError is raised when a Unicode-related encoding or decoding error occurs.\n",
        "\n",
        "**exception ValueError**\n",
        "A ValueError is raised when a built-in operation or function receives an argument that has the right type but an invalid value.\n",
        "\n",
        "**exception ZeroDivisionError**\n",
        "A ZeroDivisionError is raised when the second argument of a division or modulo operation is zero. This exception returns a string indicating the type of the operands and the operation."
      ]
    },
    {
      "cell_type": "markdown",
      "metadata": {
        "id": "criGPTleo_S9"
      },
      "source": [
        "# **Defining Clean Up Actions**\n",
        "\n",
        "Think of a task you will always want your program to do, whether it runs perfectly or raise any kind of error. For example, We use of try statement which has an optional clause – “finally” to perform clean up actions, that must be executed under all conditions.\n",
        "Cleanup actions: Before leaving the try statement, “finally” clause is always executed, whether any exception is raised or not. These are clauses which are intended to define clean-up actions that must be executed under all circumstances.\n",
        "Whenever an exception occurs and is not being handled by the except clause, first finally will occur and then the error is raised as default.\n"
      ]
    },
    {
      "cell_type": "code",
      "metadata": {
        "id": "FChx8zFtJzFJ",
        "outputId": "1ff815e8-c248-4c3d-edc6-9248e0cfd6e5",
        "colab": {
          "base_uri": "https://localhost:8080/"
        }
      },
      "source": [
        "# Code 1 : Code works normally and clean-up action is taken at the end\n",
        "def divide(x, y):\n",
        "\ttry:\n",
        "\t\t# Floor Division : Gives only Fractional Part as Answer\n",
        "\t\tresult = x // y\n",
        "\texcept ZeroDivisionError:\n",
        "\t\tprint(\"Sorry ! You are dividing by zero \")\n",
        "\telse:\n",
        "\t\tprint(\"Yeah ! Your answer is :\", result)\n",
        "\tfinally:\n",
        "\t\tprint(\"I'm finally clause, always raised !! \")\n",
        "\n",
        "# Look at parameters and note the working of Program\n",
        "divide(3, 2)\n"
      ],
      "execution_count": 11,
      "outputs": [
        {
          "output_type": "stream",
          "text": [
            "Yeah ! Your answer is : 1\n",
            "I'm finally clause, always raised !! \n"
          ],
          "name": "stdout"
        }
      ]
    },
    {
      "cell_type": "code",
      "metadata": {
        "id": "u1XG5gsGJy_4",
        "outputId": "e04aa1b0-92d7-4639-85e8-3d5685f838b0",
        "colab": {
          "base_uri": "https://localhost:8080/"
        }
      },
      "source": [
        "# Code 2 : Code raise error and is carefully handled in the except clause. Note that Clean-up action is taken at the end.\n",
        "def divide(x, y):\n",
        "\ttry:\n",
        "\t\t# Floor Division : Gives only Fractional Part as Answer\n",
        "\t\tresult = x // y\n",
        "\texcept ZeroDivisionError:\n",
        "\t\tprint(\"Sorry ! You are dividing by zero \")\n",
        "\telse:\n",
        "\t\tprint(\"Yeah ! Your answer is :\", result)\n",
        "\tfinally:\n",
        "\t\tprint(\"I'm finally clause, always raised !! \")\n",
        "\n",
        "# Look at parameters and note the working of Program\n",
        "divide(3, 0)\n"
      ],
      "execution_count": 12,
      "outputs": [
        {
          "output_type": "stream",
          "text": [
            "Sorry ! You are dividing by zero \n",
            "I'm finally clause, always raised !! \n"
          ],
          "name": "stdout"
        }
      ]
    },
    {
      "cell_type": "code",
      "metadata": {
        "id": "C0KPtO5MJy71",
        "outputId": "89eb984d-1b66-4910-fc1b-bd3b148df0d6",
        "colab": {
          "base_uri": "https://localhost:8080/",
          "height": 321
        }
      },
      "source": [
        "# Code 3 : Code, raise error but we don’t have any except clause to handle it. So, clean-up action is taken first and then the error(by default) is raised by the compiler.\n",
        "def divide(x, y):\n",
        "\ttry:\n",
        "\t\t# Floor Division : Gives only Fractional Part as Answer\n",
        "\t\tresult = x // y\n",
        "\texcept ZeroDivisionError:\n",
        "\t\tprint(\"Sorry ! You are dividing by zero \")\n",
        "\telse:\n",
        "\t\tprint(\"Yeah ! Your answer is :\", result)\n",
        "\tfinally:\n",
        "\t\tprint(\"I'm finally clause, always raised !! \")\n",
        "\n",
        "# Look at parameters and note the working of Program\n",
        "divide(3, \"3\")\n"
      ],
      "execution_count": 13,
      "outputs": [
        {
          "output_type": "stream",
          "text": [
            "I'm finally clause, always raised !! \n"
          ],
          "name": "stdout"
        },
        {
          "output_type": "error",
          "ename": "TypeError",
          "evalue": "ignored",
          "traceback": [
            "\u001b[0;31m---------------------------------------------------------------------------\u001b[0m",
            "\u001b[0;31mTypeError\u001b[0m                                 Traceback (most recent call last)",
            "\u001b[0;32m<ipython-input-13-ee83dceab982>\u001b[0m in \u001b[0;36m<module>\u001b[0;34m()\u001b[0m\n\u001b[1;32m     12\u001b[0m \u001b[0;34m\u001b[0m\u001b[0m\n\u001b[1;32m     13\u001b[0m \u001b[0;31m# Look at parameters and note the working of Program\u001b[0m\u001b[0;34m\u001b[0m\u001b[0;34m\u001b[0m\u001b[0;34m\u001b[0m\u001b[0m\n\u001b[0;32m---> 14\u001b[0;31m \u001b[0mdivide\u001b[0m\u001b[0;34m(\u001b[0m\u001b[0;36m3\u001b[0m\u001b[0;34m,\u001b[0m \u001b[0;34m\"3\"\u001b[0m\u001b[0;34m)\u001b[0m\u001b[0;34m\u001b[0m\u001b[0;34m\u001b[0m\u001b[0m\n\u001b[0m",
            "\u001b[0;32m<ipython-input-13-ee83dceab982>\u001b[0m in \u001b[0;36mdivide\u001b[0;34m(x, y)\u001b[0m\n\u001b[1;32m      3\u001b[0m         \u001b[0;32mtry\u001b[0m\u001b[0;34m:\u001b[0m\u001b[0;34m\u001b[0m\u001b[0;34m\u001b[0m\u001b[0m\n\u001b[1;32m      4\u001b[0m                 \u001b[0;31m# Floor Division : Gives only Fractional Part as Answer\u001b[0m\u001b[0;34m\u001b[0m\u001b[0;34m\u001b[0m\u001b[0;34m\u001b[0m\u001b[0m\n\u001b[0;32m----> 5\u001b[0;31m                 \u001b[0mresult\u001b[0m \u001b[0;34m=\u001b[0m \u001b[0mx\u001b[0m \u001b[0;34m//\u001b[0m \u001b[0my\u001b[0m\u001b[0;34m\u001b[0m\u001b[0;34m\u001b[0m\u001b[0m\n\u001b[0m\u001b[1;32m      6\u001b[0m         \u001b[0;32mexcept\u001b[0m \u001b[0mZeroDivisionError\u001b[0m\u001b[0;34m:\u001b[0m\u001b[0;34m\u001b[0m\u001b[0;34m\u001b[0m\u001b[0m\n\u001b[1;32m      7\u001b[0m                 \u001b[0mprint\u001b[0m\u001b[0;34m(\u001b[0m\u001b[0;34m\"Sorry ! You are dividing by zero \"\u001b[0m\u001b[0;34m)\u001b[0m\u001b[0;34m\u001b[0m\u001b[0;34m\u001b[0m\u001b[0m\n",
            "\u001b[0;31mTypeError\u001b[0m: unsupported operand type(s) for //: 'int' and 'str'"
          ]
        }
      ]
    }
  ]
}