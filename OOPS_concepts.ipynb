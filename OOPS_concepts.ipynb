{
  "nbformat": 4,
  "nbformat_minor": 0,
  "metadata": {
    "colab": {
      "name": "scratchpad",
      "provenance": [],
      "include_colab_link": true
    },
    "kernelspec": {
      "display_name": "Python 3",
      "name": "python3"
    }
  },
  "cells": [
    {
      "cell_type": "markdown",
      "metadata": {
        "id": "view-in-github",
        "colab_type": "text"
      },
      "source": [
        "<a href=\"https://colab.research.google.com/github/iamlekh/Multiprocessing-in-Python/blob/master/OOPS_concepts.ipynb\" target=\"_parent\"><img src=\"https://colab.research.google.com/assets/colab-badge.svg\" alt=\"Open In Colab\"/></a>"
      ]
    },
    {
      "cell_type": "code",
      "metadata": {
        "id": "lIYdn1woOS1n"
      },
      "source": [
        ""
      ],
      "execution_count": null,
      "outputs": []
    },
    {
      "cell_type": "markdown",
      "metadata": {
        "id": "R5TLWo9lXfT9"
      },
      "source": [
        ""
      ]
    },
    {
      "cell_type": "markdown",
      "metadata": {
        "id": "QAZV9UazXgbF"
      },
      "source": [
        "# **OBJECT ORIENTED PROGRAMMING**\n",
        "\n",
        "---\n",
        "\n",
        "Object-Oriented Programming is a methodology or paradigm to design a program using classes and objects. It simplifies the software development and maintenance by providing some concepts defined below"
      ]
    },
    {
      "cell_type": "markdown",
      "metadata": {
        "id": "Zof_RFqsX7CS"
      },
      "source": [
        "# **Classes**\n",
        "\n",
        "\n",
        "* Class is a user-defined data type which defines its properties and its functions. \n",
        "* A class does not occupy any memory space till the time an\n",
        "object is instantiated.\n",
        "* Classes are created by keyword class.\n",
        "* Attributes are the variables that belong to class.\n",
        "* Attributes are always public and can be accessed using dot (.) operator.\n",
        "\n",
        "### ***Instance Variables (Or attributes) ***\n",
        "\n",
        "* instance variables are variables whose value is assigned inside a constructor or method with self. \n",
        "* Class variables are variables whose value is assigned in class."
      ]
    },
    {
      "cell_type": "code",
      "metadata": {
        "id": "vnB52c8DXHMW",
        "outputId": "9c06ec62-9fe6-4f5d-9aa0-7cbcc61ecb09",
        "colab": {
          "base_uri": "https://localhost:8080/"
        }
      },
      "source": [
        "class example_class:  \n",
        "        roll_number = 0       \n",
        "        name = \"noname\"\n",
        "  \n",
        "def student():\n",
        "        me = MyClass() \n",
        "        me.number = 1    \n",
        "        me.name = \"Darpan\"\n",
        "        print(me.name + \" \" + str(me.number))\n",
        "     \n",
        "\n",
        "if __name__=='__main__':  \n",
        "        student()"
      ],
      "execution_count": 8,
      "outputs": [
        {
          "output_type": "stream",
          "text": [
            "Darpan 1\n"
          ],
          "name": "stdout"
        }
      ]
    },
    {
      "cell_type": "code",
      "metadata": {
        "id": "z824NeNQJ2fo",
        "outputId": "f277d3a1-4211-4f8c-cb7e-0457a36147f6",
        "colab": {
          "base_uri": "https://localhost:8080/"
        }
      },
      "source": [
        "class Person:\n",
        " \n",
        "    def __init__(self, name):\n",
        "        self.name = name\n",
        " \n",
        "    def say_hi(self):\n",
        "        print('Hello, my name is', self.name)\n",
        " \n",
        "p = Person('Darpan')\n",
        "p.say_hi()"
      ],
      "execution_count": 1,
      "outputs": [
        {
          "output_type": "stream",
          "text": [
            "Hello, my name is Darpan\n"
          ],
          "name": "stdout"
        }
      ]
    },
    {
      "cell_type": "code",
      "metadata": {
        "id": "AMQptX8qK5_5",
        "outputId": "3ed84e59-f0d7-45e6-bc50-fe3c0f7efe0d",
        "colab": {
          "base_uri": "https://localhost:8080/"
        }
      },
      "source": [
        "class CSStudent:\n",
        "\tstream = 'cse'\t\t\t\n",
        "\n",
        "\tdef __init__(self, roll):\n",
        "\t\tself.roll = roll\t\n",
        "\n",
        "a = CSStudent(101)\n",
        "b = CSStudent(102)\n",
        "\n",
        "print(a.stream)\n",
        "print(b.stream)\n",
        "print(a.roll) \n",
        "\n",
        "print(CSStudent.stream)\n"
      ],
      "execution_count": 3,
      "outputs": [
        {
          "output_type": "stream",
          "text": [
            "cse\n",
            "cse\n",
            "101\n",
            "cse\n"
          ],
          "name": "stdout"
        }
      ]
    },
    {
      "cell_type": "code",
      "metadata": {
        "id": "n_4LgIBjK6JB",
        "outputId": "0f6822b2-cd18-4cbf-d8cd-38155a1456bd",
        "colab": {
          "base_uri": "https://localhost:8080/"
        }
      },
      "source": [
        "class CSStudent:\n",
        "\tstream = 'cse'\t\n",
        "\n",
        "\tdef __init__(self, roll):\n",
        "\t\tself.roll = roll\t\t\n",
        "\n",
        "\tdef setAddress(self, address):\n",
        "\t\tself.address = address\n",
        "\n",
        "\tdef getAddress(self):\n",
        "\t\treturn self.address\n",
        "\n",
        "# Driver Code\n",
        "a = CSStudent(101)\n",
        "a.setAddress(\"Noida, UP\")\n",
        "print(a.getAddress())\n"
      ],
      "execution_count": 6,
      "outputs": [
        {
          "output_type": "stream",
          "text": [
            "Noida, UP\n"
          ],
          "name": "stdout"
        }
      ]
    },
    {
      "cell_type": "markdown",
      "metadata": {
        "id": "3-UsTQf9Z5bk"
      },
      "source": [
        "# **Methods**\n",
        "\n",
        "* Function that belongs to a class is called an Method.\n",
        "* All methods require ‘self’ parameter.\n",
        "* ‘def’ keyword is used to create a new method."
      ]
    },
    {
      "cell_type": "code",
      "metadata": {
        "id": "vvCIz8KhXHPp",
        "outputId": "2d998b1a-355d-4d4a-9f0c-dde6d7715b1e",
        "colab": {
          "base_uri": "https://localhost:8080/"
        }
      },
      "source": [
        "class vehicle:\n",
        "        tyre = 0\n",
        "        door = 0\n",
        "\n",
        "        def put(self, x, y):     \n",
        "                self.x = x\n",
        "                self.y = y\n",
        "\n",
        "def Main():\n",
        "        car = vehicle()   \n",
        "        car.put(4, 4)       \n",
        "        print(\" This Vehicle have \" + str(car.x) + \" tyres and \" + str(car.y)+\" doors.\")\n",
        "  \n",
        "if __name__=='__main__':\n",
        "        Main()"
      ],
      "execution_count": 12,
      "outputs": [
        {
          "output_type": "stream",
          "text": [
            " This Vehicle have 4 tyres and 4 doors.\n"
          ],
          "name": "stdout"
        }
      ]
    },
    {
      "cell_type": "markdown",
      "metadata": {
        "id": "4-hyglOkkTGg"
      },
      "source": [
        "# **Inheritance**\n",
        "\n",
        "* Inheritance is defined as a way in which a particular class inherits features from its base class.\n",
        "* Base class is also knows as *‘Superclass’* and the class which inherits from the Superclass is knows as *‘Subclass’*\n",
        "\n",
        "### Types of Inheritance :\n",
        "1. Single inheritance : When one class inherits another class, it is known\n",
        "as single level inheritance\n",
        "2. Multiple inheritance : Multiple inheritance is the process of deriving\n",
        "a new class that inherits the attributes from two or more classes.\n",
        "3. Hierarchical inheritance : Hierarchical inheritance is defined as the\n",
        "process of deriving more than one class from a base class.\n",
        "4. Multilevel inheritance : Multilevel inheritance is a process of deriving a\n",
        "class from another derived class.\n",
        "5. Hybrid inheritance : Hybrid inheritance is a combination of\n",
        "simple, multiple inheritance and hierarchical inheritance."
      ]
    },
    {
      "cell_type": "code",
      "metadata": {
        "id": "qy0jDcVhXHSv",
        "outputId": "ef04b6db-531e-4ee2-dc35-f65b808258eb",
        "colab": {
          "base_uri": "https://localhost:8080/"
        }
      },
      "source": [
        "class coder:\n",
        "    def __init__(self, name, language):\t\n",
        "        self.name = name\n",
        "        self.language = language\n",
        "\n",
        "\n",
        "class ml_engineer(coder):\t\t\n",
        "    def __init__(self, name, language):\n",
        "        super().__init__(name, language)\n",
        "\n",
        "def Main():\n",
        "    shyam_details = coder(\"Shyam\", \"Java\")\n",
        "    darpan_details = ml_engineer(\"Darpan\", \"Python\")\n",
        "\n",
        "    print(\"Is Darpan a ML_engineer? \" +str(isinstance(darpan_details, ml_engineer)))\n",
        "    print(\"Is Darpan a Coder? \" +str(isinstance(darpan_details, coder)))\n",
        "    print(\"Is Shyam a ML_engineer? \"+str(isinstance(shyam_details, ml_engineer)))\n",
        "    print(\"Is Shyam a Coder? \" +str(isinstance(shyam_details, coder)))\n",
        "    print(darpan_details.name)\n",
        "    print(shyam_details.language)\n",
        "\n",
        "if __name__=='__main__':\n",
        "    Main()"
      ],
      "execution_count": 18,
      "outputs": [
        {
          "output_type": "stream",
          "text": [
            "Is Darpan a ML_engineer? True\n",
            "Is Darpan a Coder? True\n",
            "Is Shyam a ML_engineer? False\n",
            "Is Shyam a Coder? True\n",
            "Darpan\n",
            "Java\n"
          ],
          "name": "stdout"
        }
      ]
    },
    {
      "cell_type": "code",
      "metadata": {
        "id": "6L2O6NROPRp0",
        "outputId": "87868db0-e135-4b50-811b-b108808befd3",
        "colab": {
          "base_uri": "https://localhost:8080/"
        }
      },
      "source": [
        "class Person(object):\n",
        "\n",
        "\tdef __init__(self, name):\n",
        "\t\tself.name = name\n",
        "\n",
        "\tdef getName(self):\n",
        "\t\treturn self.name\n",
        "\n",
        "\tdef isEmployee(self):\n",
        "\t\treturn False\n",
        "\n",
        "\n",
        "class Employee(Person):\n",
        "\n",
        "\tdef isEmployee(self):\n",
        "\t\treturn True\n",
        "\n",
        "\n",
        "emp = Person(\"test1\") \n",
        "print(emp.getName(), emp.isEmployee())\n",
        "\n",
        "emp = Employee(\"test2\")\n",
        "print(emp.getName(), emp.isEmployee())\n"
      ],
      "execution_count": 14,
      "outputs": [
        {
          "output_type": "stream",
          "text": [
            "test1 False\n",
            "test2 True\n"
          ],
          "name": "stdout"
        }
      ]
    },
    {
      "cell_type": "code",
      "metadata": {
        "id": "OCsuPwWOPjmV",
        "outputId": "b69f6719-4bb8-46d7-cbe7-ccb7ec3094d8",
        "colab": {
          "base_uri": "https://localhost:8080/"
        }
      },
      "source": [
        "# Python example to check if a class is\n",
        "# subclass of another\n",
        "\n",
        "class Base(object):\n",
        "\tpass\n",
        "\n",
        "class Derived(Base):\n",
        "\tpass\n",
        "\n",
        "print(issubclass(Derived, Base))\n",
        "print(issubclass(Base, Derived))\n",
        "\n",
        "d = Derived()\n",
        "b = Base()\n",
        "\n",
        "\n",
        "print(isinstance(b, Derived))\n",
        "\n",
        "print(isinstance(d, Base))\n"
      ],
      "execution_count": 15,
      "outputs": [
        {
          "output_type": "stream",
          "text": [
            "True\n",
            "False\n",
            "False\n",
            "True\n"
          ],
          "name": "stdout"
        }
      ]
    },
    {
      "cell_type": "code",
      "metadata": {
        "id": "L8KdYqHsP9cD",
        "outputId": "85f42a14-63ab-4559-d90e-f1e10e909660",
        "colab": {
          "base_uri": "https://localhost:8080/"
        }
      },
      "source": [
        "# Python example to show working of multiple inheritance\n",
        "\n",
        "class Base1(object):\n",
        "\tdef __init__(self):\n",
        "\t\tself.str1 = \"test1\"\n",
        "\t\tprint(\"Base1\")\n",
        "\n",
        "\n",
        "class Base2(object):\n",
        "\tdef __init__(self):\n",
        "\t\tself.str2 = \"test2\"\t\t\n",
        "\t\tprint(\"Base2\")\n",
        "\n",
        "\n",
        "class Derived(Base1, Base2):\n",
        "\tdef __init__(self):\n",
        "\t\tBase1.__init__(self)\n",
        "\t\tBase2.__init__(self)\n",
        "\t\tprint(\"Derived\")\n",
        "\t\t\n",
        "\tdef printStrs(self):\n",
        "\t\tprint(self.str1, self.str2)\n",
        "\t\t\n",
        "\n",
        "ob = Derived()\n",
        "ob.printStrs()\n"
      ],
      "execution_count": 18,
      "outputs": [
        {
          "output_type": "stream",
          "text": [
            "Base1\n",
            "Base2\n",
            "Derived\n",
            "test1 test2\n"
          ],
          "name": "stdout"
        }
      ]
    },
    {
      "cell_type": "code",
      "metadata": {
        "id": "U_ceAlCvQngY",
        "outputId": "dfad3c73-14fc-470b-caf5-8448ee254e65",
        "colab": {
          "base_uri": "https://localhost:8080/"
        }
      },
      "source": [
        "# Python example to show that base class members can be accessed in derived class using base class name\n",
        "\n",
        "class Base(object):\n",
        "    def __init__(self, x):\n",
        "        self.x = x\t\n",
        "\n",
        "class Derived(Base):\n",
        "    def __init__(self, x, y):\n",
        "        Base.x = x\n",
        "        self.y = y\n",
        "\n",
        "    def printXY(self):\n",
        "        print(self.x, self.y)\n",
        "        print(Base.x, self.y)\n",
        "\n",
        "\n",
        "d = Derived(10, 20)\n",
        "d.printXY()\n"
      ],
      "execution_count": 22,
      "outputs": [
        {
          "output_type": "stream",
          "text": [
            "10 20\n",
            "10 20\n"
          ],
          "name": "stdout"
        }
      ]
    },
    {
      "cell_type": "code",
      "metadata": {
        "id": "Mq5TVLvlRbtr",
        "outputId": "3c71fd92-0e4a-41ac-bbda-714fb6ea75f4",
        "colab": {
          "base_uri": "https://localhost:8080/"
        }
      },
      "source": [
        "# Python example to show that base class members can be accessed in derived class using super()\n",
        "\n",
        "\n",
        "class Base(object):\n",
        "\tdef __init__(self, x):\n",
        "\t\tself.x = x\t\n",
        "\n",
        "class Derived(Base):\n",
        "    def __init__(self, x, y):\n",
        "        super().__init__(x)\n",
        "        # super(Derived, self).__init__(x)\n",
        "        self.y = y\n",
        "\n",
        "    def printXY(self):\n",
        "        print(self.x, self.y)\n",
        "\n",
        "\n",
        "d = Derived(10, 20)\n",
        "d.printXY()\n"
      ],
      "execution_count": 32,
      "outputs": [
        {
          "output_type": "stream",
          "text": [
            "10 20\n"
          ],
          "name": "stdout"
        }
      ]
    },
    {
      "cell_type": "code",
      "metadata": {
        "id": "DLzf9K5kTk4d",
        "outputId": "1d907467-8e1c-4b9d-ed65-2b13628ec974",
        "colab": {
          "base_uri": "https://localhost:8080/"
        }
      },
      "source": [
        "\n",
        "class X(object):\n",
        "    def __init__(self, a):\n",
        "        self.num = a\n",
        "        print(\"-\",self.num)\n",
        "    def doubleup(self):\n",
        "        self.num *= 2\n",
        "        print(\"- -\",self.num)\n",
        "\n",
        "class Y(X):\n",
        "    def __init__(self, a):\n",
        "        X.__init__(self, a)\n",
        "        print(\"- - -\",self.num)\n",
        "    def tripleup(self):\n",
        "        self.num *= 3\n",
        "        print(\"- - - -\",self.num)\n",
        "\n",
        "obj = Y(4)\n",
        "print(\"*\",obj.num)\n",
        "\n",
        "obj.doubleup()\n",
        "print(\"* *\",obj.num)\n",
        "\n",
        "obj.tripleup()\n",
        "print(\"* * *\",obj.num)\n"
      ],
      "execution_count": 41,
      "outputs": [
        {
          "output_type": "stream",
          "text": [
            "- 4\n",
            "- - - 4\n",
            "* 4\n",
            "- - 8\n",
            "* * 8\n",
            "- - - - 24\n",
            "* * * 24\n"
          ],
          "name": "stdout"
        }
      ]
    },
    {
      "cell_type": "markdown",
      "metadata": {
        "id": "Gw9tIVg6n8Na"
      },
      "source": [
        "# **Iterators**\n",
        "\n",
        "* Iterators are objects that can be iterated upon.\n",
        "* Python uses the ```__iter__()``` method to return an iterator object of the class.\n",
        "* The iterator object then uses the ```__next__()``` method to get the next item.\n",
        "* for loops stops when StopIteration Exception is raised."
      ]
    },
    {
      "cell_type": "code",
      "metadata": {
        "id": "CYWBVwcSXHl5",
        "outputId": "21647eee-a67d-4245-9f53-47d643d5d41f",
        "colab": {
          "base_uri": "https://localhost:8080/"
        }
      },
      "source": [
        "class Reverse:\n",
        "\tdef __init__(self, data):\n",
        "\t\tself.data = data\n",
        "\t\tself.index = len(data)\t\t\n",
        "\n",
        "\tdef __iter__(self):\n",
        "\t\treturn self\n",
        "\t\n",
        "\tdef __next__(self):\n",
        "\t\tif self.index == 0:\n",
        "\t\t\traise StopIteration\t\n",
        "\t\tself.index-= 1\n",
        "\t\treturn self.data[self.index]\n",
        "\n",
        "def Main():\n",
        "\trev = Reverse('MACHINE LEARNING')\n",
        "\tfor char in rev:\n",
        "\t\tprint(char)\n",
        "\n",
        "if __name__=='__main__':\n",
        "\tMain()\n"
      ],
      "execution_count": 20,
      "outputs": [
        {
          "output_type": "stream",
          "text": [
            "G\n",
            "N\n",
            "I\n",
            "N\n",
            "R\n",
            "A\n",
            "E\n",
            "L\n",
            " \n",
            "E\n",
            "N\n",
            "I\n",
            "H\n",
            "C\n",
            "A\n",
            "M\n"
          ],
          "name": "stdout"
        }
      ]
    },
    {
      "cell_type": "markdown",
      "metadata": {
        "id": "tjOhrbqhpHK5"
      },
      "source": [
        "# **Generators**\n",
        "\n",
        "* Another way of creating iterators.\n",
        "* Uses a function rather than a separate class\n",
        "* Generates the background code for the ```next()``` and ```iter()``` methods\n",
        "Uses a special statement called yield which saves the state of the generator and set a resume point for when ```next()``` is called again."
      ]
    },
    {
      "cell_type": "code",
      "metadata": {
        "id": "w0EJZaUmXHor",
        "outputId": "8ae34f52-1424-4ac4-b307-07b907cec596",
        "colab": {
          "base_uri": "https://localhost:8080/"
        }
      },
      "source": [
        "\n",
        "def Reverse(data):\n",
        "\n",
        "\tfor index in range(len(data)-1, -1, -1):\n",
        "\t\tyield data[index]\n",
        "\n",
        "def Main():\n",
        "\trev = Reverse('python')\n",
        "\tfor char in rev:\n",
        "\t\tprint(char)\n",
        "\tdata ='JAVA'\n",
        "\tprint(list(data[i] for i in range(len(data)-1, -1, -1)))\n",
        "\n",
        "if __name__==\"__main__\":\n",
        "\tMain()\n"
      ],
      "execution_count": 23,
      "outputs": [
        {
          "output_type": "stream",
          "text": [
            "n\n",
            "o\n",
            "h\n",
            "t\n",
            "y\n",
            "p\n",
            "['A', 'V', 'A', 'J']\n"
          ],
          "name": "stdout"
        }
      ]
    },
    {
      "cell_type": "markdown",
      "metadata": {
        "id": "JsvWCtXbIOUh"
      },
      "source": [
        "# **Object**\n",
        "\n",
        "* The object is an entity that has a state and behavior associated with it. \n",
        "* It is an instance of the class."
      ]
    },
    {
      "cell_type": "code",
      "metadata": {
        "id": "CW10sVkFXHsi"
      },
      "source": [
        ""
      ],
      "execution_count": null,
      "outputs": []
    },
    {
      "cell_type": "code",
      "metadata": {
        "id": "0BqQVXOIXHvx"
      },
      "source": [
        ""
      ],
      "execution_count": null,
      "outputs": []
    },
    {
      "cell_type": "markdown",
      "metadata": {
        "id": "6LxiqAbAN2R6"
      },
      "source": [
        "# **Printing Objects**\n",
        "\n",
        "* If no ```__str__``` method is defined, print t (or print str(t)) uses ```__repr__```.\n",
        "\n",
        "* If no ```__repr__``` method is defined then the default is used.\n"
      ]
    },
    {
      "cell_type": "code",
      "metadata": {
        "id": "1OKbA076XH5C",
        "outputId": "56fa204e-87ef-4f29-849d-33d0ecefedb7",
        "colab": {
          "base_uri": "https://localhost:8080/"
        }
      },
      "source": [
        "class Test:\n",
        "\tdef __init__(self, a, b):\n",
        "\t\tself.a = a\n",
        "\t\tself.b = b\n",
        "\n",
        "\tdef __repr__(self):\n",
        "\t\treturn \"Test a:%s b:%s\" % (self.a, self.b)\n",
        "\n",
        "\tdef __str__(self):\n",
        "\t\treturn \"From str method of Test: a is %s,\" \\\n",
        "\t\t\t\"b is %s\" % (self.a, self.b)\n",
        "\n",
        "\t\n",
        "t = Test(1234, 5678)\n",
        "print(t) # This calls __str__()\n",
        "print([t]) # This calls __repr__()\n"
      ],
      "execution_count": 13,
      "outputs": [
        {
          "output_type": "stream",
          "text": [
            "From str method of Test: a is 1234,b is 5678\n",
            "[Test a:1234 b:5678]\n"
          ],
          "name": "stdout"
        }
      ]
    },
    {
      "cell_type": "markdown",
      "metadata": {
        "id": "njW79gk4NA6t"
      },
      "source": [
        "# **Data hiding**\n",
        "\n",
        "\n"
      ]
    },
    {
      "cell_type": "code",
      "metadata": {
        "id": "NHdSSgLsXHyr",
        "outputId": "7d715a14-3fe1-47b5-f18d-aa7ec62898fe",
        "colab": {
          "base_uri": "https://localhost:8080/",
          "height": 223
        }
      },
      "source": [
        "class MyClass:\n",
        "\t__hiddenVariable = 1\n",
        "\t\n",
        "\tdef add(self, increment):\n",
        "\t\tself.__hiddenVariable += increment\n",
        "\t\tprint (self.__hiddenVariable)\n",
        "\n",
        "\n",
        "myObject = MyClass()\t\n",
        "myObject.add(2)\n",
        "myObject.add(5)\n",
        "\n",
        "\n",
        "print (myObject.__hiddenVariable)\n"
      ],
      "execution_count": 10,
      "outputs": [
        {
          "output_type": "stream",
          "text": [
            "3\n",
            "8\n"
          ],
          "name": "stdout"
        },
        {
          "output_type": "error",
          "ename": "AttributeError",
          "evalue": "ignored",
          "traceback": [
            "\u001b[0;31m---------------------------------------------------------------------------\u001b[0m",
            "\u001b[0;31mAttributeError\u001b[0m                            Traceback (most recent call last)",
            "\u001b[0;32m<ipython-input-10-45e5af917387>\u001b[0m in \u001b[0;36m<module>\u001b[0;34m()\u001b[0m\n\u001b[1;32m     12\u001b[0m \u001b[0;34m\u001b[0m\u001b[0m\n\u001b[1;32m     13\u001b[0m \u001b[0;34m\u001b[0m\u001b[0m\n\u001b[0;32m---> 14\u001b[0;31m \u001b[0mprint\u001b[0m \u001b[0;34m(\u001b[0m\u001b[0mmyObject\u001b[0m\u001b[0;34m.\u001b[0m\u001b[0m__hiddenVariable\u001b[0m\u001b[0;34m)\u001b[0m\u001b[0;34m\u001b[0m\u001b[0;34m\u001b[0m\u001b[0m\n\u001b[0m",
            "\u001b[0;31mAttributeError\u001b[0m: 'MyClass' object has no attribute '__hiddenVariable'"
          ]
        }
      ]
    },
    {
      "cell_type": "code",
      "metadata": {
        "id": "s_Cs3n5LXH1T",
        "outputId": "719341b4-470d-4042-8920-b55756135e59",
        "colab": {
          "base_uri": "https://localhost:8080/"
        }
      },
      "source": [
        "class MyClass:\n",
        "\t__hiddenVariable = 10\n",
        "\n",
        "\n",
        "myObject = MyClass()\t\n",
        "print(myObject._MyClass__hiddenVariable)\n"
      ],
      "execution_count": 11,
      "outputs": [
        {
          "output_type": "stream",
          "text": [
            "10\n"
          ],
          "name": "stdout"
        }
      ]
    },
    {
      "cell_type": "markdown",
      "metadata": {
        "id": "JldicpH3VLwx"
      },
      "source": [
        "# **Polymorphism**\n",
        "\n",
        "\n",
        "*   polymorphism means same function name (but different signatures) being uses for different types.\n",
        "\n"
      ]
    },
    {
      "cell_type": "code",
      "metadata": {
        "id": "Qth7o5n9XH-E",
        "outputId": "01dbcee3-c302-41d9-cb6c-f2cb73e09e9e",
        "colab": {
          "base_uri": "https://localhost:8080/"
        }
      },
      "source": [
        "# Python program to demonstrate in-built poly-morphic functions\n",
        "\n",
        "print(len(\"geeks\"))\n",
        "\n",
        "print(len([10, 20, 30]))\n"
      ],
      "execution_count": 46,
      "outputs": [
        {
          "output_type": "stream",
          "text": [
            "5\n",
            "3\n"
          ],
          "name": "stdout"
        }
      ]
    },
    {
      "cell_type": "code",
      "metadata": {
        "id": "-w_leKoZXICQ",
        "outputId": "fbd03df0-928f-4d32-de5b-817e61078372",
        "colab": {
          "base_uri": "https://localhost:8080/"
        }
      },
      "source": [
        "\n",
        "# used defined polymorphic functions \n",
        "  \n",
        "def add(x, y, z = 0): \n",
        "    return x + y + z \n",
        "\n",
        "print(add(2, 3))\n",
        "print(add(2, 3, 4))"
      ],
      "execution_count": 47,
      "outputs": [
        {
          "output_type": "stream",
          "text": [
            "5\n",
            "9\n"
          ],
          "name": "stdout"
        }
      ]
    },
    {
      "cell_type": "markdown",
      "metadata": {
        "id": "_gQu9an4WSOp"
      },
      "source": [
        "## **Polymorphism with class methods**"
      ]
    },
    {
      "cell_type": "code",
      "metadata": {
        "id": "PWtnWx3wXIFg",
        "outputId": "b2b8915c-37c2-4344-b4d5-1544857dd548",
        "colab": {
          "base_uri": "https://localhost:8080/"
        }
      },
      "source": [
        "class India():\n",
        "\tdef capital(self):\n",
        "\t\tprint(\"New Delhi is the capital of India.\")\n",
        "\n",
        "\tdef language(self):\n",
        "\t\tprint(\"Hindi is the most widely spoken language of India.\")\n",
        "\n",
        "\tdef type(self):\n",
        "\t\tprint(\"India is a developing country.\")\n",
        "\n",
        "class USA():\n",
        "\tdef capital(self):\n",
        "\t\tprint(\"Washington, D.C. is the capital of USA.\")\n",
        "\n",
        "\tdef language(self):\n",
        "\t\tprint(\"English is the primary language of USA.\")\n",
        "\n",
        "\tdef type(self):\n",
        "\t\tprint(\"USA is a developed country.\")\n",
        "\n",
        "obj_ind = India()\n",
        "obj_usa = USA()\n",
        "for country in (obj_ind, obj_usa):\n",
        "\tcountry.capital()\n",
        "\tcountry.language()\n",
        "\tcountry.type()\n"
      ],
      "execution_count": 48,
      "outputs": [
        {
          "output_type": "stream",
          "text": [
            "New Delhi is the capital of India.\n",
            "Hindi is the most widely spoken language of India.\n",
            "India is a developing country.\n",
            "Washington, D.C. is the capital of USA.\n",
            "English is the primary language of USA.\n",
            "USA is a developed country.\n"
          ],
          "name": "stdout"
        }
      ]
    },
    {
      "cell_type": "markdown",
      "metadata": {
        "id": "JpLhhhfhWV89"
      },
      "source": [
        "\n",
        "## **Polymorphism with Inheritance**\n",
        "\n",
        "* In Python, Polymorphism lets us define methods in the child class that have the same name as the methods in the parent class. \n",
        "* In inheritance, the child class inherits the methods from the parent class. However, it is possible to modify a method in a child class that it has inherited from the parent class. This is particularly useful in cases where the method inherited from the parent class doesn’t quite fit the child class. In such cases, we re-implement the method in the child class. This process of re-implementing a method in the child class is known as **Method Overriding.**\n"
      ]
    },
    {
      "cell_type": "code",
      "metadata": {
        "id": "P3LMp5x6WIx7",
        "outputId": "741b0ef8-1720-42d9-d75e-072297406a61",
        "colab": {
          "base_uri": "https://localhost:8080/"
        }
      },
      "source": [
        "class Bird:\n",
        "  def intro(self):\n",
        "    print(\"There are many types of birds.\")\n",
        "      \n",
        "  def flight(self):\n",
        "    print(\"Most of the birds can fly but some cannot.\")\n",
        "    \n",
        "class sparrow(Bird):\n",
        "  def flight(self):\n",
        "    print(\"Sparrows can fly.\")\n",
        "      \n",
        "class ostrich(Bird):\n",
        "  def flight(self):\n",
        "    print(\"Ostriches cannot fly.\")\n",
        "      \n",
        "obj_bird = Bird()\n",
        "obj_spr = sparrow()\n",
        "obj_ost = ostrich()\n",
        "  \n",
        "obj_bird.intro()\n",
        "obj_bird.flight()\n",
        "  \n",
        "obj_spr.intro()\n",
        "obj_spr.flight()\n",
        "  \n",
        "obj_ost.intro()\n",
        "obj_ost.flight()\n"
      ],
      "execution_count": 51,
      "outputs": [
        {
          "output_type": "stream",
          "text": [
            "There are many types of birds.\n",
            "Most of the birds can fly but some cannot.\n",
            "There are many types of birds.\n",
            "Sparrows can fly.\n",
            "There are many types of birds.\n",
            "Ostriches cannot fly.\n"
          ],
          "name": "stdout"
        }
      ]
    },
    {
      "cell_type": "markdown",
      "metadata": {
        "id": "O9yAr-qsXOj1"
      },
      "source": [
        "## **Polymorphism with a Function and objects**\n",
        "\n",
        "* It is also possible to create a function that can take any object, allowing for polymorphism. \n"
      ]
    },
    {
      "cell_type": "code",
      "metadata": {
        "id": "_3PaMtVrWI1R",
        "outputId": "16574088-4c26-400e-9f4f-190ff65bcb51",
        "colab": {
          "base_uri": "https://localhost:8080/"
        }
      },
      "source": [
        "def func(obj):\n",
        "\tobj.capital()\n",
        "\tobj.language()\n",
        "\tobj.type()\n",
        "\n",
        "obj_ind = India()\n",
        "obj_usa = USA()\n",
        "\n",
        "func(obj_ind)\n",
        "func(obj_usa)\n",
        "\n"
      ],
      "execution_count": 52,
      "outputs": [
        {
          "output_type": "stream",
          "text": [
            "New Delhi is the capital of India.\n",
            "Hindi is the most widely spoken language of India.\n",
            "India is a developing country.\n",
            "Washington, D.C. is the capital of USA.\n",
            "English is the primary language of USA.\n",
            "USA is a developed country.\n"
          ],
          "name": "stdout"
        }
      ]
    },
    {
      "cell_type": "markdown",
      "metadata": {
        "id": "StN2Qv0LZPSY"
      },
      "source": [
        "# **Class or Static Variables**\n",
        "\n",
        "* All objects share class or static variables. \n",
        "* An instance or non-static variables are different for different objects (every object has a copy).\n",
        "* All variables which are assigned a value in the class declaration are class variables. And variables that are assigned values inside methods are instance variables."
      ]
    },
    {
      "cell_type": "code",
      "metadata": {
        "id": "ZedkotXCWI7D",
        "outputId": "01c999cb-aaee-4506-a338-974a95bb0d3e",
        "colab": {
          "base_uri": "https://localhost:8080/"
        }
      },
      "source": [
        "class CSStudent:\n",
        "\tstream = 'cse'\t\t\t\t # Class Variable\n",
        "\tdef __init__(self,name,roll):\n",
        "\t\tself.name = name\t\t # Instance Variable\n",
        "\t\tself.roll = roll\t\t # Instance Variable\n",
        "\n",
        "# Objects of CSStudent class\n",
        "a = CSStudent('Geek', 1)\n",
        "b = CSStudent('Nerd', 2)\n",
        "\n",
        "print(a.stream) \n",
        "print(b.stream) \n",
        "print(a.name) \n",
        "print(b.name)\n",
        "print(a.roll) \n",
        "print(b.roll)\n",
        "print(\"\\n\")\n",
        "\n",
        "print(CSStudent.stream)\n",
        "print(\"\\n\")\n",
        "\n",
        "a.stream = 'ece'\n",
        "print(a.stream) \n",
        "print(b.stream) \n",
        "print(\"\\n\")\n",
        "\n",
        "CSStudent.stream = 'mech'\n",
        "\n",
        "print(a.stream)\n",
        "print(b.stream)\n"
      ],
      "execution_count": 56,
      "outputs": [
        {
          "output_type": "stream",
          "text": [
            "cse\n",
            "cse\n",
            "Geek\n",
            "Nerd\n",
            "1\n",
            "2\n",
            "\n",
            "\n",
            "cse\n",
            "\n",
            "\n",
            "ece\n",
            "cse\n",
            "\n",
            "\n",
            "ece\n",
            "mech\n"
          ],
          "name": "stdout"
        }
      ]
    },
    {
      "cell_type": "markdown",
      "metadata": {
        "id": "I77GNirhbUzl"
      },
      "source": [
        "# **Class Method**\n",
        "\n",
        "* The **@classmethod decorator**, is a builtin function decorator that is an expression that gets evaluated after your function is defined. The result of that evaluation shadows your function definition.\n",
        "* A class method receives the class as implicit first argument, just like an instance method receives the instance\n",
        "* A class method is a method which is bound to the class and not the object of the class.\n",
        "* They have the access to the state of the class as it takes a class parameter that points to the class and not the object instance.\n",
        "*It can modify a class state that would apply across all the instances of the class. For example it can modify a class variable that will be applicable to all the instances.\n",
        "\n",
        "```\n",
        "class C(object):\n",
        "    @classmethod\n",
        "    def fun(cls, arg1, arg2, ...):\n",
        "       ....\n",
        "fun: function that needs to be converted into a class method\n",
        "returns: a class method for function.\n",
        "```\n",
        "\n",
        "# **Static Method**\n",
        "\n",
        "* A static method does not receive an implicit first argument.\n",
        "* A static method is also a method which is bound to the class and not the object of the class.\n",
        "* A static method can’t access or modify class state.\n",
        "* It is present in a class because it makes sense for the method to be present in class.\n",
        "\n",
        "```\n",
        "class C(object):\n",
        "    @staticmethod\n",
        "    def fun(arg1, arg2, ...):\n",
        "        ...\n",
        "returns: a static method for function fun.\n",
        "```\n",
        "\n",
        "\n",
        "### **Class method vs Static Method**\n",
        "\n",
        "\n",
        "\n",
        "* A class method takes cls as first parameter while a static method needs no specific parameters.\n",
        "* A class method can access or modify class state while a static method can’t access or modify it.\n",
        "* In general, static methods know nothing about class state. They are utility type methods that take some parameters and work upon those parameters. On the other hand class methods must have class as parameter.\n",
        "* We use @classmethod decorator in python to create a class method and we use @staticmethod decorator to create a static method in python.\n",
        "\n",
        "### **When to use what?**\n",
        "\n",
        "* We generally use class method to create factory methods. Factory methods return class object ( similar to a constructor ) for different use cases.\n",
        "* We generally use static methods to create utility functions.\n",
        "\n",
        "### **How to define a class method and a static method?**\n",
        "\n",
        "To define a class method in python, we use @classmethod decorator and to define a static method we use @staticmethod decorator.\n",
        "Let us look at an example to understand the difference between both of them. Let us say we want to create a class Person. Now, python doesn’t support method overloading like C++ or Java so we use class methods to create factory methods. In the below example we use a class method to create a person object from birth year.\n"
      ]
    },
    {
      "cell_type": "code",
      "metadata": {
        "id": "eBewlj9yWI-O",
        "outputId": "b2ec0f5e-c910-4302-b80b-5d26d7f5c4fa",
        "colab": {
          "base_uri": "https://localhost:8080/"
        }
      },
      "source": [
        "# Python program to demonstrate\n",
        "# use of class method and static method.\n",
        "from datetime import date\n",
        "\n",
        "class Person:\n",
        "\tdef __init__(self, name, age):\n",
        "\t\tself.name = name\n",
        "\t\tself.age = age\n",
        "\t\n",
        "\t# a class method to create a Person object by birth year.\n",
        "\t@classmethod\n",
        "\tdef fromBirthYear(cls, name, year):\n",
        "\t\treturn cls(name, date.today().year - year)\n",
        "\t\n",
        "\t# a static method to check if a Person is adult or not.\n",
        "\t@staticmethod\n",
        "\tdef isAdult(age):\n",
        "\t\treturn age > 18\n",
        "\n",
        "person1 = Person('mayank', 21)\n",
        "person2 = Person.fromBirthYear('mayank', 1996)\n",
        "\n",
        "print (person1.age)\n",
        "print (person2.age)\n",
        "\n",
        "# print the result\n",
        "print (Person.isAdult(22))\n"
      ],
      "execution_count": 57,
      "outputs": [
        {
          "output_type": "stream",
          "text": [
            "21\n",
            "25\n",
            "True\n"
          ],
          "name": "stdout"
        }
      ]
    },
    {
      "cell_type": "markdown",
      "metadata": {
        "id": "rsxpiUloovUu"
      },
      "source": [
        "# **Changing Class Members in Python**\n",
        "\n",
        "We should be careful when changing value of class variable. If we try to change a class variable using object, a new instance (or non-static) variable for that particular object is created and this variable shadows the class variables"
      ]
    },
    {
      "cell_type": "code",
      "metadata": {
        "id": "vqjE0LY7WJCy",
        "outputId": "dcb15b6d-f8c1-4c13-f3f8-a9a5695b85ff",
        "colab": {
          "base_uri": "https://localhost:8080/"
        }
      },
      "source": [
        "# Class for Computer Science Student\n",
        "class CSStudent:\n",
        "\tstream = 'cse'\t # Class Variable\n",
        "\tdef __init__(self, name, roll):\n",
        "\t\tself.name = name\n",
        "\t\tself.roll = roll\n",
        "\n",
        "# Driver program to test the functionality\n",
        "# Creating objects of CSStudent class\n",
        "a = CSStudent(\"Geek\", 1)\n",
        "b = CSStudent(\"Nerd\", 2)\n",
        "\n",
        "print (\"Initially\")\n",
        "print (\"a.stream =\", a.stream )\n",
        "print (\"b.stream =\", b.stream )\n",
        "\n",
        "# This thing doesn't change class(static) variable\n",
        "# Instead creates instance variable for the object\n",
        "# 'a' that shadows class member.\n",
        "a.stream = \"ece\"\n",
        "\n",
        "print (\"\\nAfter changing a.stream\")\n",
        "print (\"a.stream =\", a.stream )\n",
        "print (\"b.stream =\", b.stream )\n"
      ],
      "execution_count": 58,
      "outputs": [
        {
          "output_type": "stream",
          "text": [
            "Initially\n",
            "a.stream = cse\n",
            "b.stream = cse\n",
            "\n",
            "After changing a.stream\n",
            "a.stream = ece\n",
            "b.stream = cse\n"
          ],
          "name": "stdout"
        }
      ]
    },
    {
      "cell_type": "markdown",
      "metadata": {
        "id": "ia-mxx6opQbw"
      },
      "source": [
        "# **Constructors in Python**\n",
        "\n",
        "Constructors are generally used for instantiating an object.The task of constructors is to initialize (assign values) to the data members of the class when an object of class is created.In Python the ```__init__()``` method is called the constructor and is always called when an object is created.\n",
        "\n",
        "\n",
        "```\n",
        "def __init__(self):\n",
        "    # body of the constructor\n",
        "```\n",
        "\n",
        "**Types of constructors :**\n",
        "\n",
        "* **default constructor :**The default constructor is simple constructor which doesn’t accept any arguments.It’s definition has only one argument which is a reference to the instance being constructed.\n",
        "* **parameterized constructor :**constructor with parameters is known as parameterized constructor.The parameterized constructor take its first argument as a reference to the instance being constructed known as self and the rest of the arguments are provided by the programmer."
      ]
    },
    {
      "cell_type": "code",
      "metadata": {
        "id": "IXwE3xocWJHJ",
        "outputId": "33b2a359-8a36-4cbd-df65-206558b5223c",
        "colab": {
          "base_uri": "https://localhost:8080/"
        }
      },
      "source": [
        "class test:\n",
        "\n",
        "\t# default constructor\n",
        "\tdef __init__(self):\n",
        "\t\tself.tt = \"test constructor\"\n",
        "\n",
        "\t# a method for printing data members\n",
        "\tdef print_test(self):\n",
        "\t\tprint(self.tt)\n",
        "\n",
        "\n",
        "# creating object of the class\n",
        "obj = test()\n",
        "\n",
        "# calling the instance method using the object obj\n",
        "obj.print_test()\n"
      ],
      "execution_count": 60,
      "outputs": [
        {
          "output_type": "stream",
          "text": [
            "test constructor\n"
          ],
          "name": "stdout"
        }
      ]
    },
    {
      "cell_type": "code",
      "metadata": {
        "id": "sbbL_KQbWJLI",
        "outputId": "effb4382-36e4-4cc6-d1b5-082d87e9e92c",
        "colab": {
          "base_uri": "https://localhost:8080/"
        }
      },
      "source": [
        "class Addition:\n",
        "\tfirst = 0\n",
        "\tsecond = 0\n",
        "\tanswer = 0\n",
        "\t\n",
        "\t# parameterized constructor\n",
        "\tdef __init__(self, f, s):\n",
        "\t\tself.first = f\n",
        "\t\tself.second = s\n",
        "\t\n",
        "\tdef display(self):\n",
        "\t\tprint(\"First number = \" + str(self.first))\n",
        "\t\tprint(\"Second number = \" + str(self.second))\n",
        "\t\tprint(\"Addition of two numbers = \" + str(self.answer))\n",
        "\n",
        "\tdef calculate(self):\n",
        "\t\tself.answer = self.first + self.second\n",
        "\n",
        "# creating object of the class\n",
        "# this will invoke parameterized constructor\n",
        "obj = Addition(1000, 2000)\n",
        "\n",
        "# perform Addition\n",
        "obj.calculate()\n",
        "\n",
        "# display result\n",
        "obj.display()\n"
      ],
      "execution_count": 61,
      "outputs": [
        {
          "output_type": "stream",
          "text": [
            "First number = 1000\n",
            "Second number = 2000\n",
            "Addition of two numbers = 3000\n"
          ],
          "name": "stdout"
        }
      ]
    },
    {
      "cell_type": "markdown",
      "metadata": {
        "id": "XoPeE3ZbqakF"
      },
      "source": [
        "# **Destructors in Python**\n",
        "\n",
        "* Destructors are called when an object gets destroyed. In Python, destructors are not needed as much needed in C++ because Python has a garbage collector that handles memory management automatically.\n",
        "\n",
        "* The ```__del__()``` method is a known as a destructor method in Python. It is called when all references to the object have been deleted i.e when an object is garbage collected.\n",
        "\n",
        "```\n",
        "def __del__(self):\n",
        "  # body of destructor\n",
        "```\n",
        "**Note :** A reference to objects is also deleted when the object goes out of reference or when the program ends.\n",
        "\n",
        "**Note :** The destructor was called after the program ended or when all the references to object are deleted i.e when the reference count becomes zero, not when object went out of scope.\n"
      ]
    },
    {
      "cell_type": "code",
      "metadata": {
        "id": "o3KsnWpMWJOe",
        "outputId": "69ffa15d-21e9-4ed8-f621-3b1aeef939f7",
        "colab": {
          "base_uri": "https://localhost:8080/"
        }
      },
      "source": [
        "# Python program to illustrate destructor\n",
        "class Employee:\n",
        "\n",
        "\t# Initializing\n",
        "\tdef __init__(self):\n",
        "\t\tprint('Employee created.')\n",
        "\n",
        "\t# Deleting (Calling destructor)\n",
        "\tdef __del__(self):\n",
        "\t\tprint('Destructor called, Employee deleted.')\n",
        "\n",
        "obj = Employee()\n",
        "del obj\n"
      ],
      "execution_count": 62,
      "outputs": [
        {
          "output_type": "stream",
          "text": [
            "Employee created.\n",
            "Destructor called, Employee deleted.\n"
          ],
          "name": "stdout"
        }
      ]
    },
    {
      "cell_type": "code",
      "metadata": {
        "id": "r6EdPtSoV9b8",
        "outputId": "cdddedd5-0678-4208-8a65-af3597481046",
        "colab": {
          "base_uri": "https://localhost:8080/"
        }
      },
      "source": [
        "# Python program to illustrate destructor\n",
        "\n",
        "class Employee:\n",
        "\n",
        "\t# Initializing\n",
        "\tdef __init__(self):\n",
        "\t\tprint('Employee created')\n",
        "\n",
        "\t# Calling destructor\n",
        "\tdef __del__(self):\n",
        "\t\tprint(\"Destructor called\")\n",
        "\n",
        "def Create_obj():\n",
        "\tprint('Making Object...')\n",
        "\tobj = Employee()\n",
        "\tprint('function end...')\n",
        "\treturn obj\n",
        "\n",
        "print('Calling Create_obj() function...')\n",
        "obj = Create_obj()\n",
        "print('Program End...')\n"
      ],
      "execution_count": 68,
      "outputs": [
        {
          "output_type": "stream",
          "text": [
            "Calling Create_obj() function...\n",
            "Making Object...\n",
            "Employee created\n",
            "function end...\n",
            "Destructor called\n",
            "Program End...\n"
          ],
          "name": "stdout"
        }
      ]
    },
    {
      "cell_type": "code",
      "metadata": {
        "id": "NzXdhEMfrY0g"
      },
      "source": [
        "# Python program to illustrate destructor\n",
        "\n",
        "class A:\n",
        "\tdef __init__(self, bb):\n",
        "\t\tself.b = bb\n",
        "\n",
        "class B:\n",
        "\tdef __init__(self):\n",
        "\t\tself.a = A(self)\n",
        "\tdef __del__(self):\n",
        "\t\tprint(\"die\")\n",
        "\n",
        "def fun():\n",
        "\tb = B()\n",
        "\n",
        "fun()\n",
        "\n"
      ],
      "execution_count": 70,
      "outputs": []
    },
    {
      "cell_type": "markdown",
      "metadata": {
        "id": "sSOyVBSusMvg"
      },
      "source": [
        "# **First Class functions**\n",
        "\n",
        "**First class objects** in a language are handled uniformly throughout. They may be stored in data structures, passed as arguments, or used in control structures. A programming language is said to support first-class functions if it treats functions as first-class objects. Python supports the concept of First Class functions.\n",
        "\n",
        "**Properties of first class functions:**\n",
        "\n",
        "* A function is an instance of the Object type.\n",
        "* You can store the function in a variable.\n",
        "* You can pass the function as a parameter to another function.\n",
        "* You can return the function from a function.\n",
        "* You can store them in data structures such as hash tables, lists, …"
      ]
    },
    {
      "cell_type": "markdown",
      "metadata": {
        "id": "iZuzRcrysvhH"
      },
      "source": [
        "1. Functions are objects: Python functions are first class objects. In the example below, we are assigning function to a variable. This assignment doesn’t call the function. It takes the function object referenced by shout and creates a second name pointing to it, yell."
      ]
    },
    {
      "cell_type": "code",
      "metadata": {
        "id": "uqsJKcYYrs8N",
        "outputId": "efce3dc0-9dd1-4a6c-caeb-446eafd8c2d5",
        "colab": {
          "base_uri": "https://localhost:8080/"
        }
      },
      "source": [
        "# Python program to illustrate functions\n",
        "# can be treated as objects\n",
        "def shout(text):\n",
        "\treturn text.upper()\n",
        "\n",
        "print (shout('Hello'))\n",
        "\n",
        "yell = shout\n",
        "\n",
        "print (yell('Hello'))\n"
      ],
      "execution_count": 71,
      "outputs": [
        {
          "output_type": "stream",
          "text": [
            "die\n",
            "die\n",
            "HELLO\n",
            "HELLO\n"
          ],
          "name": "stdout"
        }
      ]
    },
    {
      "cell_type": "markdown",
      "metadata": {
        "id": "JtRoO1sWs6mo"
      },
      "source": [
        "**2. Functions can be passed as arguments to other functions:** Because functions are objects we can pass them as arguments to other functions. Functions that can accept other functions as arguments are also called higher-order functions. In the example below, we have created a function greet which takes a function as an argument."
      ]
    },
    {
      "cell_type": "code",
      "metadata": {
        "id": "dsMvd5WVs1PQ",
        "outputId": "8dd1ebac-9d93-4365-9632-1b9f39cae1fa",
        "colab": {
          "base_uri": "https://localhost:8080/"
        }
      },
      "source": [
        "# Python program to illustrate functions\n",
        "# can be passed as arguments to other functions\n",
        "def shout(text):\n",
        "\treturn text.upper()\n",
        "\n",
        "def whisper(text):\n",
        "\treturn text.lower()\n",
        "\n",
        "def greet(func):\n",
        "\t# storing the function in a variable\n",
        "\tgreeting = func(\"\"\"Hi, I am created by a function\n",
        "passed as an argument.\"\"\")\n",
        "\tprint (greeting)\n",
        "\n",
        "greet(shout)\n",
        "greet(whisper)\n"
      ],
      "execution_count": 74,
      "outputs": [
        {
          "output_type": "stream",
          "text": [
            "HI, I AM CREATED BY A FUNCTION\n",
            "PASSED AS AN ARGUMENT.\n",
            "hi, i am created by a function\n",
            "passed as an argument.\n"
          ],
          "name": "stdout"
        }
      ]
    },
    {
      "cell_type": "markdown",
      "metadata": {
        "id": "A2tzY-Z8s-VP"
      },
      "source": [
        "**3. Functions can return another function:** Because functions are objects we can return a function from another function. In the below example, the create_adder function returns adder function."
      ]
    },
    {
      "cell_type": "code",
      "metadata": {
        "id": "xx2ZSH8itCQu",
        "outputId": "2ac0e16e-2658-491a-d73c-e81285364836",
        "colab": {
          "base_uri": "https://localhost:8080/"
        }
      },
      "source": [
        "# Python program to illustrate functions\n",
        "# Functions can return another function\n",
        "\n",
        "def create_adder(x):\n",
        "\tdef adder(y):\n",
        "\t\treturn x+y\n",
        "\n",
        "\treturn adder\n",
        "\n",
        "add_15 = create_adder(15)\n",
        "\n",
        "print (add_15(10))\n"
      ],
      "execution_count": 73,
      "outputs": [
        {
          "output_type": "stream",
          "text": [
            "25\n"
          ],
          "name": "stdout"
        }
      ]
    },
    {
      "cell_type": "code",
      "metadata": {
        "id": "ryVJ9U7GtDkB"
      },
      "source": [
        ""
      ],
      "execution_count": null,
      "outputs": []
    }
  ]
}